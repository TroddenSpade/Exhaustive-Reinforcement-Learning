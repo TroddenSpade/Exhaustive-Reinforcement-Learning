{
 "cells": [
  {
   "cell_type": "code",
   "execution_count": null,
   "metadata": {},
   "outputs": [],
   "source": [
    "import jdc\n",
    "import gc\n",
    "\n",
    "import numpy as np\n",
    "import tensorflow as tf\n",
    "import gym\n",
    "import matplotlib.pyplot as plt\n",
    "from tqdm import tqdm"
   ]
  },
  {
   "cell_type": "code",
   "execution_count": null,
   "metadata": {},
   "outputs": [],
   "source": [
    "env = gym.make('CartPole-v1')\n",
    "env.reset()"
   ]
  },
  {
   "cell_type": "markdown",
   "metadata": {},
   "source": [
    "## Fully-Connected Q Network\n"
   ]
  },
  {
   "cell_type": "code",
   "execution_count": null,
   "metadata": {},
   "outputs": [],
   "source": [
    "class FCQ:\n",
    "    def __init__(self, input_shape, layers, activation_fc=tf.nn.relu) -> None:\n",
    "        self.activation_fc = activation_fc\n",
    "        self.model = tf.keras.Sequential([\n",
    "            tf.keras.layers.Dense(4, input_shape=input_shape, activation=activation_fc),\n",
    "            tf.keras.layers.Dense(512, activation=activation_fc),\n",
    "            tf.keras.layers.Dense(128, activation=activation_fc),\n",
    "            tf.keras.layers.Dense(2)\n",
    "        ])\n",
    "        # self.model.compile(optimizer=tf.keras.optimizers.RMSprop(0.0005), loss=tf.keras.losses.MeanSquaredError())\n",
    "        self.optimizer = tf.keras.optimizers.RMSprop(0.0005)\n",
    "        self.loss = tf.keras.losses.MeanSquaredError()\n",
    "\n",
    "    def fit(self, states, q_targets, masks):\n",
    "        with tf.GradientTape() as tape:\n",
    "            q_values = self.model(states)\n",
    "            q_actions = tf.reduce_sum(tf.multiply(q_values, masks), axis=1, keepdims=True)\n",
    "            loss_value = self.loss(q_targets, q_actions)\n",
    "\n",
    "        grads = tape.gradient(loss_value, self.model.trainable_variables)\n",
    "        self.optimizer.apply_gradients(zip(grads, self.model.trainable_variables))\n",
    "        print(loss_value)\n",
    "\n",
    "    def predict(self, x):\n",
    "        return self.model.predict(x)\n"
   ]
  },
  {
   "cell_type": "code",
   "execution_count": null,
   "metadata": {},
   "outputs": [],
   "source": [
    "FCQ((4,), (4,512,128,2)).model.summary()"
   ]
  },
  {
   "cell_type": "code",
   "execution_count": null,
   "metadata": {},
   "outputs": [],
   "source": [
    "class NFQ:\n",
    "    def __init__(self, fcq, epsilon=0.1, gamma=1, batch_size=1024, epochs=40) -> None:\n",
    "        self.fcq = fcq\n",
    "        self.batch_size = batch_size\n",
    "        self. epochs = epochs\n",
    "        self.epsilon = epsilon\n",
    "        self.gamma = gamma\n"
   ]
  },
  {
   "cell_type": "code",
   "execution_count": null,
   "metadata": {},
   "outputs": [],
   "source": [
    "%%add_to NFQ\n",
    "\n",
    "def train(self, n_episodes):\n",
    "    # 1. get a batch of experiences\n",
    "    # loop 1->k:\n",
    "    #   2. calculate target\n",
    "    #   3. fit Q values with RMSprops & MSE\n",
    "    # goto 1\n",
    "    experiences = []\n",
    "    rewards = np.zeros(n_episodes)\n",
    "    for i in tqdm(range(n_episodes)):\n",
    "        state = env.reset()\n",
    "        while True:\n",
    "            action = self.epsilon_greedy_policy(state)\n",
    "            state_p, reward, done, info = env.step(action)\n",
    "            rewards[i] += reward\n",
    "            is_truncated = 'TimeLimit.truncated' in info and info['TimeLimit.truncated']\n",
    "            is_failure = done and not is_truncated\n",
    "            experiences.append((state, action, reward, state_p, float(is_failure)))\n",
    "\n",
    "            if len(experiences) >= self.batch_size:\n",
    "                experiences = np.array(experiences, dtype=object)\n",
    "                batches = [np.vstack(s) for s in experiences.T]\n",
    "                self.optimize(batches)\n",
    "                experiences = []\n",
    "\n",
    "            if done:\n",
    "                break\n",
    "\n",
    "            state = state_p\n",
    "    return rewards\n"
   ]
  },
  {
   "cell_type": "code",
   "execution_count": null,
   "metadata": {},
   "outputs": [],
   "source": [
    "# for episode in range(1, max_episodes + 1):\n",
    "#     episode_start = time.time()\n",
    "    \n",
    "#     state, is_terminal = env.reset(), False\n",
    "#     self.episode_reward.append(0.0)\n",
    "#     self.episode_timestep.append(0.0)\n",
    "#     self.episode_exploration.append(0.0)\n",
    "\n",
    "#     for step in count():\n",
    "#         action = self.training_strategy.select_action(self.online_model, state)\n",
    "#         new_state, reward, is_terminal, info = env.step(action)\n",
    "#         is_truncated = 'TimeLimit.truncated' in info and info['TimeLimit.truncated']\n",
    "#         is_failure = is_terminal and not is_truncated\n",
    "#         experience = (state, action, reward, new_state, float(is_failure))\n",
    "\n",
    "#         self.experiences.append(experience)\n",
    "        \n",
    "#         if len(self.experiences) >= self.batch_size:\n",
    "#             experiences = np.array(self.experiences)\n",
    "#             batches = [np.vstack(sars) for sars in experiences.T]\n",
    "#             experiences = self.online_model.load(batches)\n",
    "#             for _ in range(self.epochs):\n",
    "#                 self.optimize_model(experiences)\n",
    "#             self.experiences.clear()\n",
    "        \n",
    "#         if is_terminal:\n",
    "#             gc.collect()\n",
    "#             break"
   ]
  },
  {
   "cell_type": "code",
   "execution_count": null,
   "metadata": {},
   "outputs": [],
   "source": [
    "%%add_to NFQ\n",
    "\n",
    "def epsilon_greedy_policy(self, state):\n",
    "    q_values = self.fcq.predict(np.expand_dims(state, axis=0))[0]\n",
    "    if np.random.rand() < self.epsilon: \n",
    "        return np.random.randint(len(q_values))\n",
    "    else:\n",
    "        return np.argmax(q_values)\n",
    "\n",
    "def greedy_policy(self, state):\n",
    "    q_values = self.fcq.predict(np.expand_dims(state, axis=0))\n",
    "    return np.argmax(q_values)\n"
   ]
  },
  {
   "cell_type": "code",
   "execution_count": null,
   "metadata": {},
   "outputs": [],
   "source": [
    "%%add_to NFQ\n",
    "\n",
    "def optimize(self, batches):\n",
    "    states, actions, rewards, states_p, is_terminals = batches\n",
    "    for _ in range(self.epochs):\n",
    "        q_states_p = self.fcq.model(states_p)\n",
    "        max_q_states_p = tf.stop_gradient(tf.reduce_max(q_states_p, axis=1, keepdims=True))\n",
    "        \n",
    "        q_targets = rewards + self.gamma * max_q_states_p * (1 - is_terminals)\n",
    "        masks = tf.one_hot(actions.ravel(), 2)\n",
    "        self.fcq.fit(states, q_targets, masks)"
   ]
  },
  {
   "cell_type": "code",
   "execution_count": null,
   "metadata": {},
   "outputs": [],
   "source": [
    "fcq = FCQ((4,), (4,512,128,2))\n",
    "agent = NFQ(fcq, epsilon=0.2)\n",
    "rewards = agent.train(1000)"
   ]
  },
  {
   "cell_type": "code",
   "execution_count": null,
   "metadata": {},
   "outputs": [],
   "source": [
    "plt.plot(rewards)\n",
    "plt.show()"
   ]
  }
 ],
 "metadata": {
  "interpreter": {
   "hash": "2f1f0e8cb69cdd736a26bd33fff5c819fcc67289b522dbe5f05eed2f9a453a51"
  },
  "kernelspec": {
   "display_name": "Python 3.8.10 64-bit ('RL': conda)",
   "name": "python3"
  },
  "language_info": {
   "codemirror_mode": {
    "name": "ipython",
    "version": 3
   },
   "file_extension": ".py",
   "mimetype": "text/x-python",
   "name": "python",
   "nbconvert_exporter": "python",
   "pygments_lexer": "ipython3",
   "version": "3.8.10"
  }
 },
 "nbformat": 4,
 "nbformat_minor": 4
}