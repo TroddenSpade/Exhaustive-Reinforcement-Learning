{
  "cells": [
    {
      "cell_type": "code",
      "execution_count": 1,
      "metadata": {
        "id": "-d3yPVraFWkQ"
      },
      "outputs": [],
      "source": [
        "import jdc\n",
        "import gc\n",
        "from PIL import Image\n",
        "\n",
        "import numpy as np\n",
        "import tensorflow as tf\n",
        "import gym\n",
        "import matplotlib.pyplot as plt\n",
        "from tqdm import tqdm"
      ]
    },
    {
      "cell_type": "code",
      "execution_count": 2,
      "metadata": {
        "colab": {
          "base_uri": "https://localhost:8080/"
        },
        "id": "8rtf5rxuFWkS",
        "outputId": "d7e27a38-0d66-4a53-94eb-d226b2e34183"
      },
      "outputs": [
        {
          "data": {
            "text/plain": [
              "array([-0.03538387,  0.03210591, -0.00783928,  0.03925279])"
            ]
          },
          "execution_count": 2,
          "metadata": {},
          "output_type": "execute_result"
        }
      ],
      "source": [
        "env = gym.make('CartPole-v1')\n",
        "env.reset()"
      ]
    },
    {
      "cell_type": "markdown",
      "metadata": {
        "id": "2fRpkyHNFWkT"
      },
      "source": [
        "## Fully-Connected Q-network (FCQ)\n"
      ]
    },
    {
      "cell_type": "code",
      "execution_count": 3,
      "metadata": {
        "id": "rXnrBqTCFWkT"
      },
      "outputs": [],
      "source": [
        "class FCQ:\n",
        "    def __init__(self, input_shape, layers, activation_fc=tf.nn.relu) -> None:\n",
        "        self.model = tf.keras.Sequential()\n",
        "        self.model.add(tf.keras.layers.InputLayer(input_shape=input_shape))\n",
        "        for i, l in enumerate(layers):\n",
        "            self.model.add(tf.keras.layers.Dense(l, activation=None if i==len(layers)-1 else activation_fc))\n",
        "            \n",
        "        self.optimizer = tf.keras.optimizers.RMSprop(0.0005)\n",
        "        self.loss = tf.keras.losses.MeanSquaredError()\n",
        "\n",
        "    def fit(self, states, q_targets, actions):\n",
        "        actions_tf = tf.convert_to_tensor(actions, dtype=tf.int32)\n",
        "        with tf.GradientTape() as tape:\n",
        "            q_values = self.model(states)\n",
        "            q_actions = tf.gather(q_values, actions_tf, axis=1, batch_dims=1)\n",
        "            loss_value = self.loss(q_targets, q_actions)\n",
        "\n",
        "        grads = tape.gradient(loss_value, self.model.trainable_variables)\n",
        "        self.optimizer.apply_gradients(zip(grads, self.model.trainable_variables))\n",
        "\n",
        "    def predict(self, x):\n",
        "        return self.model.predict(x)\n",
        "\n",
        "    def get_weights(self):\n",
        "        return self.model.get_weights()\n",
        "\n",
        "    def set_weights(self, weights):\n",
        "        self.model.set_weights(weights)\n",
        "\n",
        "    def save_model(self, name):\n",
        "        self.model.save(name)\n",
        "\n",
        "    def load_model(self, name):\n",
        "        self.model = tf.keras.models.load_model(name)\n"
      ]
    },
    {
      "cell_type": "code",
      "execution_count": 4,
      "metadata": {
        "colab": {
          "base_uri": "https://localhost:8080/"
        },
        "id": "HQJqK6TcFWkU",
        "outputId": "a2caed91-c482-4e05-fc0f-76caca28e441"
      },
      "outputs": [
        {
          "name": "stdout",
          "output_type": "stream",
          "text": [
            "Model: \"sequential\"\n",
            "_________________________________________________________________\n",
            "Layer (type)                 Output Shape              Param #   \n",
            "=================================================================\n",
            "dense (Dense)                (None, 512)               2560      \n",
            "_________________________________________________________________\n",
            "dense_1 (Dense)              (None, 128)               65664     \n",
            "_________________________________________________________________\n",
            "dense_2 (Dense)              (None, 2)                 258       \n",
            "=================================================================\n",
            "Total params: 68,482\n",
            "Trainable params: 68,482\n",
            "Non-trainable params: 0\n",
            "_________________________________________________________________\n"
          ]
        }
      ],
      "source": [
        "FCQ((4,), (512,128,2)).model.summary()"
      ]
    },
    {
      "cell_type": "markdown",
      "metadata": {
        "id": "WGItx1SQFWkV"
      },
      "source": [
        "## Neural Fitted Q-iteration (NFQ)"
      ]
    },
    {
      "cell_type": "code",
      "execution_count": 5,
      "metadata": {
        "id": "dstu2J5CFWkW"
      },
      "outputs": [],
      "source": [
        "class NFQ:\n",
        "    def __init__(self, env, fcq, epsilon=0.1, gamma=1, batch_size=1024, epochs=40) -> None:\n",
        "        self.fcq = fcq\n",
        "        self.env = env\n",
        "        self.batch_size = batch_size\n",
        "        self.epochs = epochs\n",
        "        self.epsilon = epsilon\n",
        "        self.gamma = gamma"
      ]
    },
    {
      "cell_type": "code",
      "execution_count": 6,
      "metadata": {
        "id": "HsSeh19IFWkZ"
      },
      "outputs": [],
      "source": [
        "%%add_to NFQ\n",
        "\n",
        "def train(self, n_episodes):\n",
        "    # 1. get a batch of experiences\n",
        "    # loop 1->k:\n",
        "    #   2. calculate target\n",
        "    #   3. fit Q values with RMSprops & MSE\n",
        "    # goto 1\n",
        "    experiences = []\n",
        "    step_count = 0\n",
        "    rewards = np.zeros(n_episodes)\n",
        "    for i in range(n_episodes):\n",
        "        state = self.env.reset()\n",
        "        while True:\n",
        "            step_count += 1\n",
        "            action = self.epsilon_greedy_policy(state)\n",
        "            state_p, reward, done, info = self.env.step(action)\n",
        "            rewards[i] += reward\n",
        "            is_truncated = 'TimeLimit.truncated' in info and info['TimeLimit.truncated']\n",
        "            is_failure = done and not is_truncated\n",
        "            experiences.append((state, action, reward, state_p, float(is_failure)))\n",
        "\n",
        "            if len(experiences) >= self.batch_size:\n",
        "                experiences = np.array(experiences, dtype=object)\n",
        "                batches = [np.vstack(s) for s in experiences.T]\n",
        "                self.optimize(batches)\n",
        "                experiences = []\n",
        "\n",
        "            if done:\n",
        "                break\n",
        "            print(\"\\rEpisode: {}, Steps: {}, Reward:{}\".format(i, step_count, rewards[i]), end=\"\") # Not shown\n",
        "\n",
        "            state = state_p\n",
        "    return rewards\n"
      ]
    },
    {
      "cell_type": "code",
      "execution_count": 7,
      "metadata": {
        "id": "IpseGHgyFWka"
      },
      "outputs": [],
      "source": [
        "%%add_to NFQ\n",
        "\n",
        "def epsilon_greedy_policy(self, state):\n",
        "    q_values = self.fcq.predict(np.expand_dims(state, axis=0))[0]\n",
        "    if np.random.rand() < self.epsilon: \n",
        "        return np.random.randint(len(q_values))\n",
        "    else:\n",
        "        return np.argmax(q_values)\n",
        "\n",
        "def greedy_policy(self, state):\n",
        "    q_values = self.fcq.predict(np.expand_dims(state, axis=0))\n",
        "    return np.argmax(q_values)\n"
      ]
    },
    {
      "cell_type": "code",
      "execution_count": 8,
      "metadata": {
        "id": "PfgKRmYyFWkb"
      },
      "outputs": [],
      "source": [
        "%%add_to NFQ\n",
        "\n",
        "def optimize(self, batches):\n",
        "    states, actions, rewards, states_p, is_terminals = batches\n",
        "    for _ in range(self.epochs):\n",
        "        q_states_p = self.fcq.model(states_p)\n",
        "        max_q_states_p = tf.reduce_max(q_states_p, axis=1, keepdims=True)\n",
        "        \n",
        "        q_targets = rewards + self.gamma * max_q_states_p * (1 - is_terminals)\n",
        "        masks = tf.one_hot(actions.ravel(), 2)\n",
        "        self.fcq.fit(states, q_targets, masks)"
      ]
    },
    {
      "cell_type": "code",
      "execution_count": 9,
      "metadata": {
        "id": "wsdgTqV4FWkb"
      },
      "outputs": [],
      "source": [
        "fcq = FCQ((4,), (512,128,2))\n",
        "env = gym.make(\"CartPole-v1\")\n",
        "# agent_nfq = NFQ(env, fcq, epsilon=0.1)\n",
        "# rewards_nfq = agent_nfq.train(1600)"
      ]
    },
    {
      "cell_type": "code",
      "execution_count": 10,
      "metadata": {
        "id": "RRRPeWthFWkc"
      },
      "outputs": [],
      "source": [
        "# plt.plot(rewards_nfq)\n",
        "# plt.show()"
      ]
    },
    {
      "cell_type": "markdown",
      "metadata": {
        "id": "V9nIQPI_FWkc"
      },
      "source": [
        "## Deep Q-Network (DQN)"
      ]
    },
    {
      "cell_type": "code",
      "execution_count": 11,
      "metadata": {
        "id": "7IaiexL3FWkd"
      },
      "outputs": [],
      "source": [
        "class ReplayBuffer:\n",
        "    def __init__(self, max_size=50000) -> None:\n",
        "        self.max_size = max_size\n",
        "        self.next = 0\n",
        "        self.size = 0\n",
        "\n",
        "        self.states = np.empty(shape=(max_size), dtype=np.ndarray)\n",
        "        self.actions = np.empty(shape=(max_size), dtype=np.ndarray)\n",
        "        self.rewards = np.empty(shape=(max_size), dtype=np.ndarray)\n",
        "        self.states_p = np.empty(shape=(max_size), dtype=np.ndarray)\n",
        "        self.is_terminals = np.empty(shape=(max_size), dtype=np.ndarray)\n",
        "\n",
        "    def __len__(self): return self.size\n",
        "    \n",
        "    def store(self, experience):\n",
        "        state, action, reward, state_p, is_terminal = experience\n",
        "        self.states[self.next] = state\n",
        "        self.actions[self.next] = action\n",
        "        self.rewards[self.next] = reward\n",
        "        self.states_p[self.next] = state_p\n",
        "        self.is_terminals[self.next] = is_terminal\n",
        "\n",
        "        self.next += 1\n",
        "        self.size = min(self.size + 1, self.max_size)\n",
        "\n",
        "    def sample(self, batch_size=64):\n",
        "        indices = np.random.choice(self.size, size=batch_size, replace=False)\n",
        "        return np.vstack(self.states[indices]), \\\n",
        "            self.actions[indices], \\\n",
        "            self.rewards[indices], \\\n",
        "            np.vstack(self.states_p[indices]), \\\n",
        "            self.is_terminals[indices]\n"
      ]
    },
    {
      "cell_type": "code",
      "execution_count": 12,
      "metadata": {
        "id": "XHjcFhIwFWkd"
      },
      "outputs": [],
      "source": [
        "class DQN:\n",
        "    def __init__(self, env, rb, online_nn, target_nn, gamma=1, min_buffer=320, network_update_rate=15) -> None:\n",
        "        self.epsilon = 1\n",
        "        self.min_epsilon = 0.1\n",
        "        self.decay_rate = np.exp(np.log(self.min_epsilon) / 20_000) \n",
        "        self.gamma = gamma\n",
        "\n",
        "        self.min_buffer = min_buffer\n",
        "        self.network_update_rate = network_update_rate\n",
        "\n",
        "        self.env = env\n",
        "        self.replay_buffer = rb\n",
        "        self.online_nn = online_nn\n",
        "        self.target_nn = target_nn        \n"
      ]
    },
    {
      "cell_type": "code",
      "execution_count": 13,
      "metadata": {
        "id": "2sf2RW_LFWke"
      },
      "outputs": [],
      "source": [
        "%%add_to DQN\n",
        "\n",
        "def epsilon_greedy_exp_policy(self, state):\n",
        "    q_values = self.online_nn.predict(np.expand_dims(state, axis=0))[0]\n",
        "    if np.random.rand() < self.epsilon:\n",
        "        action = np.random.randint(len(q_values))\n",
        "    else:\n",
        "        action = np.argmax(q_values)\n",
        "    self.epsilon = max(self.min_epsilon, self.decay_rate * self.epsilon)\n",
        "    return action"
      ]
    },
    {
      "cell_type": "code",
      "execution_count": 14,
      "metadata": {
        "id": "an4_g74jeN4g"
      },
      "outputs": [],
      "source": [
        "%%add_to DQN\n",
        "\n",
        "def greedy_policy(self, state):\n",
        "    q_values = self.online_nn.predict(np.expand_dims(state, axis=0))[0]\n",
        "    action = np.argmax(q_values)\n",
        "    return action"
      ]
    },
    {
      "cell_type": "code",
      "execution_count": 15,
      "metadata": {
        "id": "KHaubKHFFWke"
      },
      "outputs": [],
      "source": [
        "%%add_to DQN\n",
        "\n",
        "def optimize(self, batches):\n",
        "    states, actions, rewards, states_p, is_terminals = batches\n",
        "    q_states_p = self.target_nn.model(states_p)\n",
        "    max_q_states_p =tf.reduce_max(q_states_p, axis=1)\n",
        "    \n",
        "    q_targets = rewards + self.gamma * max_q_states_p * (1 - is_terminals)\n",
        "    self.online_nn.fit(states, q_targets, actions)"
      ]
    },
    {
      "cell_type": "code",
      "execution_count": 16,
      "metadata": {
        "id": "ddedsIOpFWke"
      },
      "outputs": [],
      "source": [
        "%%add_to DQN\n",
        "\n",
        "def train(self, n_episodes):\n",
        "    step_count = 0\n",
        "    rewards = np.zeros(n_episodes)\n",
        "    for i in tqdm(range(n_episodes)):\n",
        "        state = self.env.reset()\n",
        "        while True:\n",
        "            step_count += 1\n",
        "            action = self.epsilon_greedy_exp_policy(state)\n",
        "            state_p, reward, done, info = self.env.step(action)\n",
        "            rewards[i] += reward\n",
        "            is_truncated = 'TimeLimit.truncated' in info and info['TimeLimit.truncated']\n",
        "            is_failure = done and not is_truncated\n",
        "            self.replay_buffer.store((state, action, reward, state_p, float(is_failure)))\n",
        "\n",
        "            if len(self.replay_buffer) >= self.min_buffer:\n",
        "                batches = self.replay_buffer.sample()\n",
        "                self.optimize(batches)\n",
        "\n",
        "            if step_count % self.network_update_rate == 0:\n",
        "                self.target_nn.set_weights(self.online_nn.get_weights())\n",
        "\n",
        "            if done:\n",
        "                break\n",
        "            # print(\"\\rEpisode: {}, Steps: {}, eps: {:.3f}, Reward:{}\".format(i, step_count, self.epsilon, rewards[i]), end=\"\")\n",
        "\n",
        "            state = state_p\n",
        "    return rewards\n"
      ]
    },
    {
      "cell_type": "code",
      "execution_count": 17,
      "metadata": {
        "id": "Fg3YwnZtifB2"
      },
      "outputs": [],
      "source": [
        "%%add_to DQN\n",
        "\n",
        "def play(self):\n",
        "    state = self.env.reset()\n",
        "    frames = []\n",
        "    while True:\n",
        "        frames.append(Image.fromarray(env.render(mode='rgb_array')))\n",
        "\n",
        "        action = self.greedy_policy(state)\n",
        "        state_p, reward, done, info = self.env.step(action)\n",
        "\n",
        "        if done:\n",
        "            break\n",
        "\n",
        "        state = state_p\n",
        "    env.close()\n",
        "    return frames"
      ]
    },
    {
      "cell_type": "code",
      "execution_count": 18,
      "metadata": {
        "colab": {
          "base_uri": "https://localhost:8080/"
        },
        "id": "0DMU02q3FWkg",
        "outputId": "20bb234a-0731-4e99-a74a-6d09d25e2405"
      },
      "outputs": [
        {
          "name": "stderr",
          "output_type": "stream",
          "text": [
            "100%|██████████| 250/250 [36:35<00:00,  8.78s/it]\n"
          ]
        }
      ],
      "source": [
        "env = gym.make(\"CartPole-v1\")\n",
        "rb = ReplayBuffer()\n",
        "online_nn = FCQ((4,), (512,128,2))\n",
        "target_nn = FCQ((4,), (512,128,2))\n",
        "\n",
        "dqn = DQN(env, rb, online_nn, target_nn)\n",
        "rewards_dqn = dqn.train(250)"
      ]
    },
    {
      "cell_type": "code",
      "execution_count": 19,
      "metadata": {
        "colab": {
          "base_uri": "https://localhost:8080/",
          "height": 265
        },
        "id": "JiGaMUPJFWkj",
        "outputId": "8a6f054d-3caf-4be1-fb84-a174f7dec0e7"
      },
      "outputs": [
        {
          "data": {
            "image/png": "[encoded data removed]",
            "text/plain": [
              "<Figure size 432x288 with 1 Axes>"
            ]
          },
          "metadata": {
            "needs_background": "light",
            "tags": []
          },
          "output_type": "display_data"
        }
      ],
      "source": [
        "plt.plot(rewards_dqn)\n",
        "plt.show()"
      ]
    },
    {
      "cell_type": "code",
      "execution_count": 19,
      "metadata": {},
      "outputs": [],
      "source": [
        "frames = dqn.play()"
      ]
    },
    {
      "cell_type": "code",
      "execution_count": 20,
      "metadata": {},
      "outputs": [],
      "source": [
        "with open('./openai_gym.gif', 'wb') as f:\n",
        "    im = Image.new('RGB', frames[0].size)\n",
        "    im.save(f, save_all=True, append_images=frames)"
      ]
    },
    {
      "cell_type": "code",
      "execution_count": 11,
      "metadata": {},
      "outputs": [
        {
          "data": {
            "text/html": [
              "<img width=\"400\" height=\"auto\" src=\"cartpole-v1-dqn.gif\" alt=\"g\"/>"
            ],
            "text/plain": [
              "<IPython.core.display.HTML object>"
            ]
          },
          "execution_count": 11,
          "metadata": {},
          "output_type": "execute_result"
        }
      ],
      "source": [
        "from IPython.display import HTML\n",
        "\n",
        "HTML(data='''<img width=\"400\" height=\"auto\" src=\"cartpole-v1-dqn.gif\" alt=\"g\"/>''')"
      ]
    },
    {
      "cell_type": "markdown",
      "metadata": {
        "id": "yFn1TsdLv-0V"
      },
      "source": [
        "## Double DQN (DDQN)"
      ]
    },
    {
      "cell_type": "code",
      "execution_count": 18,
      "metadata": {
        "id": "RK1eCZJNwAj0"
      },
      "outputs": [],
      "source": [
        "class DDQN(DQN):\n",
        "    def optimize(self, batches):\n",
        "        states, actions, rewards, states_p, is_terminals = batches\n",
        "        q_states_p = self.target_nn.model(states_p)\n",
        "        q_states_p_online = self.online_nn.model(states_p)\n",
        "        actions_p = tf.argmax(q_states_p_online, axis=1)\n",
        "\n",
        "        max_q_states_p = tf.gather(q_states_p, actions_p, axis=1, batch_dims=1)\n",
        "\n",
        "        q_targets = rewards + self.gamma * max_q_states_p * (1 - is_terminals)\n",
        "        self.online_nn.fit(states, q_targets, actions)"
      ]
    },
    {
      "cell_type": "code",
      "execution_count": 19,
      "metadata": {
        "colab": {
          "base_uri": "https://localhost:8080/"
        },
        "id": "Bxf0dtVi2sG3",
        "outputId": "ad73230d-481d-4029-f93c-9544112ac4f7"
      },
      "outputs": [
        {
          "name": "stderr",
          "output_type": "stream",
          "text": [
            "100%|██████████| 250/250 [36:56<00:00,  8.87s/it]\n"
          ]
        }
      ],
      "source": [
        "env = gym.make(\"CartPole-v1\")\n",
        "rb = ReplayBuffer()\n",
        "online_nn = FCQ((4,), (512,128,2))\n",
        "target_nn = FCQ((4,), (512,128,2))\n",
        "\n",
        "ddqn = DDQN(env, rb, online_nn, target_nn)\n",
        "rewards_ddqn = ddqn.train(250)"
      ]
    },
    {
      "cell_type": "code",
      "execution_count": 20,
      "metadata": {
        "colab": {
          "base_uri": "https://localhost:8080/",
          "height": 265
        },
        "id": "Z32Ge1-nVQV_",
        "outputId": "9e07a10d-55eb-4b48-9772-6b5176e8e14b"
      },
      "outputs": [
        {
          "data": {
            "image/png": "[encoded data removed]",
            "text/plain": [
              "<Figure size 432x288 with 1 Axes>"
            ]
          },
          "metadata": {
            "needs_background": "light",
            "tags": []
          },
          "output_type": "display_data"
        }
      ],
      "source": [
        "plt.plot(rewards_ddqn)\n",
        "plt.show()"
      ]
    },
    {
      "cell_type": "code",
      "execution_count": 21,
      "metadata": {
        "colab": {
          "base_uri": "https://localhost:8080/"
        },
        "id": "9lZUhglaeqAi",
        "outputId": "e75d1868-4b9c-46a7-8a04-05b9e5ebba55"
      },
      "outputs": [
        {
          "name": "stdout",
          "output_type": "stream",
          "text": [
            "WARNING:tensorflow:Compiled the loaded model, but the compiled metrics have yet to be built. `model.compile_metrics` will be empty until you train or evaluate the model.\n",
            "WARNING:tensorflow:Compiled the loaded model, but the compiled metrics have yet to be built. `model.compile_metrics` will be empty until you train or evaluate the model.\n"
          ]
        }
      ],
      "source": [
        "online_nn.save_model(\"ddqn_online_nn.h5\")\n",
        "target_nn.save_model(\"ddqn_target_nn.h5\")"
      ]
    },
    {
      "cell_type": "code",
      "execution_count": null,
      "metadata": {
        "id": "gpx4iSvVexGF"
      },
      "outputs": [],
      "source": []
    }
  ],
  "metadata": {
    "accelerator": "GPU",
    "colab": {
      "collapsed_sections": [],
      "name": "CartPole.ipynb",
      "provenance": []
    },
    "interpreter": {
      "hash": "2f1f0e8cb69cdd736a26bd33fff5c819fcc67289b522dbe5f05eed2f9a453a51"
    },
    "kernelspec": {
      "display_name": "Python 3.8.10 64-bit ('RL': conda)",
      "name": "python3"
    },
    "language_info": {
      "codemirror_mode": {
        "name": "ipython",
        "version": 3
      },
      "file_extension": ".py",
      "mimetype": "text/x-python",
      "name": "python",
      "nbconvert_exporter": "python",
      "pygments_lexer": "ipython3",
      "version": "3.8.10"
    }
  },
  "nbformat": 4,
  "nbformat_minor": 0
}