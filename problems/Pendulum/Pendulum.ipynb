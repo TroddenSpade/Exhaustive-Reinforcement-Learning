{
 "cells": [
  {
   "cell_type": "code",
   "execution_count": 1,
   "metadata": {},
   "outputs": [],
   "source": [
    "import numpy as np\n",
    "import matplotlib.pyplot as plt\n",
    "from tqdm import tqdm\n",
    "from pendulum_env import PendulumEnvironment\n",
    "import tiles3 as tc\n",
    "import jdc"
   ]
  },
  {
   "cell_type": "code",
   "execution_count": 2,
   "metadata": {},
   "outputs": [
    {
     "data": {
      "text/plain": [
       "(None,\n",
       " array([-3.14159265,  0.        ]),\n",
       " (-3.141592653589793, array([-3.14159265e+00, -3.00038466e-17]), False))"
      ]
     },
     "execution_count": 2,
     "metadata": {},
     "output_type": "execute_result"
    }
   ],
   "source": [
    "env_test = PendulumEnvironment()\n",
    "env_test.env_init(), env_test.env_start(), env_test.env_step(1)"
   ]
  },
  {
   "cell_type": "code",
   "execution_count": 3,
   "metadata": {},
   "outputs": [],
   "source": [
    "class PendulumTileCoder:\n",
    "    def __init__(self, iht_size=4096, num_tilings=32, num_tiles=8):\n",
    "        self.num_tilings = num_tilings\n",
    "        self.num_tiles = num_tiles\n",
    "        self.iht_size = iht_size\n",
    "        self.iht = tc.IHT(iht_size)\n",
    "    \n",
    "    def get_tiles(self, state):\n",
    "        angle_scaled = ( (state[0] + np.pi)  / (2*np.pi) ) * self.num_tiles\n",
    "        ang_vel_scaled = ( (state[1] + 2*np.pi) / ( 4*np.pi) ) * self.num_tiles\n",
    "\n",
    "        tiles = tc.tileswrap(self.iht, self.num_tilings, [angle_scaled, ang_vel_scaled], wrapwidths=[self.num_tiles, False])\n",
    "        return np.array(tiles)"
   ]
  },
  {
   "cell_type": "code",
   "execution_count": 4,
   "metadata": {},
   "outputs": [],
   "source": [
    "class ActorCriticSoftmax: \n",
    "    def __init__(self, environment, tileCoding, actor_alpha, critic_alpha, reward_alpha, gamma=1):\n",
    "        self.env = environment\n",
    "        self.tc = tileCoding\n",
    "        self.actions = list(range(3))\n",
    "        self.actor_alpha = actor_alpha/self.tc.num_tilings\n",
    "        self.critic_alpha = critic_alpha/self.tc.num_tilings\n",
    "        self.reward_alpha = reward_alpha\n",
    "        self.gamma = gamma\n",
    "        self.avg_reward = 0.0\n",
    "        self.actor_w = np.zeros((len(self.actions), self.tc.iht_size))\n",
    "        self.critic_w = np.zeros(self.tc.iht_size)\n",
    "\n",
    "\n",
    "    def reset(self):\n",
    "        self.avg_reward = 0.0\n",
    "        self.actor_w = np.zeros((len(self.actions), self.tc.iht_size))\n",
    "        self.critic_w = np.zeros(self.tc.iht_size)\n"
   ]
  },
  {
   "cell_type": "code",
   "execution_count": 5,
   "metadata": {},
   "outputs": [],
   "source": [
    "%%add_to ActorCriticSoftmax\n",
    "\n",
    "def agent_policy(self, state_tiles):\n",
    "    action_preferences = self.actor_w[:, state_tiles].sum(axis=1)    \n",
    "    normalized_preferences = action_preferences - np.max(action_preferences) \n",
    "    softmax_prob = np.exp(normalized_preferences) / np.sum(np.exp(normalized_preferences))\n",
    "    chosen_action = np.random.choice(self.actions, p=softmax_prob)\n",
    "    \n",
    "    return chosen_action, softmax_prob"
   ]
  },
  {
   "cell_type": "code",
   "execution_count": 6,
   "metadata": {},
   "outputs": [],
   "source": [
    "%%add_to ActorCriticSoftmax\n",
    "\n",
    "def estimate(self, n_steps):\n",
    "    rewards = np.zeros(n_steps)\n",
    "    self.env.env_init()\n",
    "    state = self.env.env_start()\n",
    "    state_tiles = self.tc.get_tiles(state)\n",
    "    I_gamma = 1\n",
    "\n",
    "    for step in range(n_steps):\n",
    "        action, softmax_prob = self.agent_policy(state_tiles)        \n",
    "        reward, state_p, _ = self.env.env_step(action)\n",
    "        rewards[step] = reward\n",
    "        state_p_tiles = self.tc.get_tiles(state_p)\n",
    "\n",
    "        delta = reward - self.avg_reward + self.gamma * self.critic_w[state_p_tiles].sum() - self.critic_w[state_tiles].sum()\n",
    "    \n",
    "        self.avg_reward += self.reward_alpha * delta\n",
    "        self.critic_w[state_tiles] += self.critic_alpha * delta\n",
    "        for a in self.actions:\n",
    "            if a == action:\n",
    "                self.actor_w[a][state_tiles] += self.actor_alpha * I_gamma * delta * (1 - softmax_prob[a])\n",
    "            else:\n",
    "                self.actor_w[a][state_tiles] += self.actor_alpha * I_gamma * delta * (0 - softmax_prob[a])\n",
    "\n",
    "        state_tiles = state_p_tiles\n",
    "        I_gamma *= self.gamma\n",
    "\n",
    "    return rewards"
   ]
  },
  {
   "cell_type": "code",
   "execution_count": 7,
   "metadata": {},
   "outputs": [],
   "source": [
    "%%add_to ActorCriticSoftmax\n",
    "\n",
    "def iterate(self, n_runs, n_steps):\n",
    "    rewards = np.zeros(n_steps)\n",
    "    for _ in tqdm(range(n_runs)):\n",
    "        self.reset()\n",
    "        rewards += self.estimate(n_steps)\n",
    "\n",
    "    return rewards / n_runs"
   ]
  },
  {
   "cell_type": "code",
   "execution_count": 8,
   "metadata": {},
   "outputs": [
    {
     "name": "stderr",
     "output_type": "stream",
     "text": [
      "100%|██████████| 50/50 [02:28<00:00,  2.98s/it]\n"
     ]
    }
   ],
   "source": [
    "env = PendulumEnvironment()\n",
    "ptc = PendulumTileCoder(iht_size=4096, num_tilings=32, num_tiles=8)\n",
    "\n",
    "agent = ActorCriticSoftmax(env, ptc, actor_alpha=2**(-2), critic_alpha=2, reward_alpha=2**(-6), gamma=1)\n",
    "\n",
    "res = agent.iterate(50, 20000)\n"
   ]
  },
  {
   "cell_type": "code",
   "execution_count": 9,
   "metadata": {},
   "outputs": [
    {
     "data": {
      "image/png": "[encoded data removed]",
      "text/plain": [
       "<Figure size 720x360 with 1 Axes>"
      ]
     },
     "metadata": {
      "needs_background": "light"
     },
     "output_type": "display_data"
    }
   ],
   "source": [
    "plt.figure(figsize=(10,5))\n",
    "plt.plot(res, label='Actor-Critic Tile Coding')\n",
    "plt.plot([0,20000],[0,0], '--', color='crimson')\n",
    "plt.legend()\n",
    "plt.show()"
   ]
  }
 ],
 "metadata": {
  "interpreter": {
   "hash": "2f1f0e8cb69cdd736a26bd33fff5c819fcc67289b522dbe5f05eed2f9a453a51"
  },
  "kernelspec": {
   "display_name": "Python 3.8.10 64-bit ('RL': conda)",
   "name": "python3"
  },
  "language_info": {
   "codemirror_mode": {
    "name": "ipython",
    "version": 3
   },
   "file_extension": ".py",
   "mimetype": "text/x-python",
   "name": "python",
   "nbconvert_exporter": "python",
   "pygments_lexer": "ipython3",
   "version": "3.8.10"
  },
  "orig_nbformat": 4
 },
 "nbformat": 4,
 "nbformat_minor": 2
}