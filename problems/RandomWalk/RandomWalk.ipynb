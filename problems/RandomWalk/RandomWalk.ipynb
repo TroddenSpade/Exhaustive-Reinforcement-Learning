{
 "cells": [
  {
   "cell_type": "code",
   "execution_count": 11,
   "id": "incident-macintosh",
   "metadata": {},
   "outputs": [],
   "source": [
    "import numpy as np\n",
    "from tqdm import tqdm\n",
    "import matplotlib.pyplot as plt"
   ]
  },
  {
   "cell_type": "markdown",
   "id": "9e3dffd9-b885-47df-8da9-c81c1a807e07",
   "metadata": {},
   "source": [
    "# Simple Random Walk"
   ]
  },
  {
   "cell_type": "code",
   "execution_count": 12,
   "id": "major-cream",
   "metadata": {},
   "outputs": [],
   "source": [
    "class RandomWalk:\n",
    "    def __init__(self, states):\n",
    "        self.state_space = states\n",
    "        self.action_space = 2\n",
    "        self.init = self.state_space // 2\n",
    "        self.player = self.init\n",
    "        \n",
    "    def reset(self):\n",
    "        self.player = self.init\n",
    "        return self.player\n",
    "    \n",
    "    def step(self):\n",
    "        if np.random.rand() < 0.5:\n",
    "            self.player -= 1\n",
    "        else:\n",
    "            self.player += 1\n",
    "        \n",
    "        if self.player == self.state_space-1:\n",
    "            reward = 1\n",
    "            done = True\n",
    "        elif self.player == 0:\n",
    "            reward = -1\n",
    "            done = True\n",
    "        else:\n",
    "            reward = 0\n",
    "            done = False\n",
    "            \n",
    "        return self.player, reward, done\n",
    "    \n",
    "    def p(self, state):\n",
    "        l = []\n",
    "        l.append((1/2, 1 if state + 2 == self.state_space else 0, state + 1))\n",
    "        l.append((1/2, -1 if state - 1 == 0 else 0, state - 1))\n",
    "        return l\n"
   ]
  },
  {
   "cell_type": "code",
   "execution_count": 13,
   "id": "d071c505-593e-49c6-ae17-48e128d1cfc0",
   "metadata": {},
   "outputs": [],
   "source": [
    "class ValueIteration:\n",
    "    def __init__(self, env, theta=0.1, gamma=1):\n",
    "        self.env = env\n",
    "        self.V = np.zeros(self.env.state_space)\n",
    "        self.gamma = gamma\n",
    "        self.theta = theta\n",
    "\n",
    "    def iterate(self):\n",
    "        done = False\n",
    "        pbar = tqdm()\n",
    "        while not done:\n",
    "            pbar.update(1)\n",
    "            new_V = np.zeros(self.env.state_space)\n",
    "            for s in range(1,self.env.state_space-1):\n",
    "                q = np.zeros(2)\n",
    "                list = self.env.p(s)\n",
    "                for (P, reward, s_p) in list:\n",
    "                    new_V[s] += P * (reward + self.gamma * self.V[s_p])\n",
    "            delta = np.max(np.abs(new_V - self.V))\n",
    "            self.V = new_V\n",
    "            if delta < self.theta:\n",
    "                done = True\n",
    "        pbar.close()\n",
    "\n",
    "    def value(self):\n",
    "        return self.V\n"
   ]
  },
  {
   "cell_type": "code",
   "execution_count": 14,
   "id": "81c3376d-d861-4cc9-80f6-71fb4875d350",
   "metadata": {},
   "outputs": [],
   "source": [
    "rw = RandomWalk(21)"
   ]
  },
  {
   "cell_type": "code",
   "execution_count": 15,
   "id": "49da903b-a6bb-4b99-b75c-3c7f111521ae",
   "metadata": {},
   "outputs": [],
   "source": [
    "vi = ValueIteration(rw, 0.000000001, gamma=1)"
   ]
  },
  {
   "cell_type": "code",
   "execution_count": 16,
   "id": "dffa176f-340e-4784-963c-f0f60807d110",
   "metadata": {},
   "outputs": [
    {
     "name": "stderr",
     "output_type": "stream",
     "text": [
      "358it [00:00, 6762.36it/s]\n"
     ]
    }
   ],
   "source": [
    "vi.iterate()\n",
    "real_values = vi.V"
   ]
  },
  {
   "cell_type": "code",
   "execution_count": 17,
   "id": "c95dd19b-9406-4142-9cc0-f8e1237291a3",
   "metadata": {},
   "outputs": [
    {
     "data": {
      "text/plain": [
       "array([ 0.        , -0.9       , -0.79999999, -0.69999999, -0.59999999,\n",
       "       -0.49999999, -0.39999999, -0.29999999, -0.19999999, -0.1       ,\n",
       "        0.        ,  0.1       ,  0.19999999,  0.29999999,  0.39999999,\n",
       "        0.49999999,  0.59999999,  0.69999999,  0.79999999,  0.9       ,\n",
       "        0.        ])"
      ]
     },
     "execution_count": 17,
     "metadata": {},
     "output_type": "execute_result"
    }
   ],
   "source": [
    "real_values"
   ]
  },
  {
   "cell_type": "code",
   "execution_count": 8,
   "id": "sharp-source",
   "metadata": {},
   "outputs": [],
   "source": [
    "class nStepTD:\n",
    "    def __init__(self, env, n, alpha=0.4, gamma=1):\n",
    "        self.env = env\n",
    "        self.alpha = alpha\n",
    "        self.gamma = gamma\n",
    "        self.n = n\n",
    "        self.max_len = 10_000\n",
    "        self.V = np.zeros(env.state_space)\n",
    "        \n",
    "    def reset(self):\n",
    "        self.V = np.zeros(self.env.state_space)\n",
    "        \n",
    "    def estimate(self, n_episodes=1000):\n",
    "        for i in range(n_episodes):\n",
    "            gammas = np.power(self.gamma, range(self.max_len))\n",
    "            states =[]\n",
    "            rewards = []\n",
    "\n",
    "            state = self.env.reset()\n",
    "            states.append(state)\n",
    "\n",
    "            T = np.inf\n",
    "            t = 0\n",
    "            while True:\n",
    "                if t < T:\n",
    "                    s_p, reward, done = self.env.step()\n",
    "                    rewards.append(reward)\n",
    "                    if done:\n",
    "                        T = t + 1\n",
    "                tau = t - self.n + 1\n",
    "                if tau >= 0:\n",
    "                    G = np.sum(gammas[:min(tau+self.n,T) - tau] * rewards[tau:min(tau+self.n,T)])\n",
    "                    if tau + n < T:\n",
    "                        G += np.power(self.gamma,self.n) * self.V[s_p]\n",
    "                    self.V[states[tau]] += self.alpha * (G - self.V[states[tau]])\n",
    "                if tau == T - 1:\n",
    "                    break\n",
    "                t += 1\n",
    "                state = s_p\n",
    "                states.append(state)\n",
    "            \n",
    "    def repeat(self, n_runs, n_episodes):\n",
    "        avg = np.zeros(n_runs)\n",
    "        for i in range(n_runs):\n",
    "            self.reset()\n",
    "            self.estimate(n_episodes)\n",
    "            avg[i] = np.sqrt(((self.V - real_values) ** 2).mean())\n",
    "        return avg.mean()\n",
    "                "
   ]
  },
  {
   "cell_type": "code",
   "execution_count": 9,
   "id": "a66de579-e130-4ae1-8151-41a4da70d0a3",
   "metadata": {},
   "outputs": [],
   "source": [
    "ns = [1, 2, 4, 8, 16, 32, 64, 128, 256, 512]\n",
    "alphas = [i * 0.1 for i in range(11)]\n"
   ]
  },
  {
   "cell_type": "code",
   "execution_count": null,
   "id": "af453099-2b3a-4b76-ad0a-9495dd25db79",
   "metadata": {},
   "outputs": [],
   "source": [
    "plt.figure(figsize=(12, 8))\n",
    "\n",
    "for n in tqdm(ns):\n",
    "    res = np.zeros(len(alphas))\n",
    "    for a in range(11):\n",
    "        rw = RandomWalk(21)\n",
    "        td = nStepTD(rw, n, alpha=alphas[a])\n",
    "        res[a] = td.repeat(100,10)\n",
    "    plt.plot(alphas, res, label=\"n = \" + str(n))\n",
    "        \n",
    "plt.xlabel('Alpha')\n",
    "plt.ylabel('Average RMS error')\n",
    "plt.legend()\n",
    "plt.show()"
   ]
  },
  {
   "cell_type": "markdown",
   "id": "48b8f0ad-bec7-43f4-9bcf-8d7057847499",
   "metadata": {},
   "source": [
    "# State Aggregation"
   ]
  },
  {
   "cell_type": "code",
   "execution_count": 21,
   "id": "74fef381-98b2-4200-b031-d7e33b716107",
   "metadata": {
    "tags": []
   },
   "outputs": [],
   "source": [
    "class LongRandomWalk(RandomWalk):\n",
    "    def __init__(self, states):\n",
    "        self.state_space = states + 2\n",
    "        self.init = self.state_space // 2\n",
    "        self.player = self.init\n",
    "        \n",
    "    def step(self):\n",
    "        if np.random.rand() < 0.5:\n",
    "            rand = np.floor(np.random.rand() * (-100))\n",
    "        else:\n",
    "            rand = np.floor(np.random.rand() * (+100)) + 1\n",
    "        \n",
    "        self.player = int(min(max(self.player + rand, 0), self.state_space-1))\n",
    "        \n",
    "        if self.player == 0:\n",
    "            reward = -1\n",
    "            done = True\n",
    "        elif self.player == self.state_space-1:\n",
    "            reward = 1\n",
    "            done = True\n",
    "        else:\n",
    "            reward = 0\n",
    "            done = False\n",
    "            \n",
    "        return self.player, reward, done"
   ]
  },
  {
   "cell_type": "code",
   "execution_count": 22,
   "id": "a9be24b7-9945-435c-ae10-3323435a02fb",
   "metadata": {},
   "outputs": [],
   "source": [
    "n_states = 1000\n",
    "\n",
    "lrw = LongRandomWalk(n_states)"
   ]
  },
  {
   "cell_type": "code",
   "execution_count": 35,
   "id": "38c489a1-9076-4149-922e-6ce664be4ff8",
   "metadata": {},
   "outputs": [
    {
     "name": "stdout",
     "output_type": "stream",
     "text": [
      "486 0 False\n",
      "479 0 False\n",
      "432 0 False\n",
      "391 0 False\n",
      "412 0 False\n",
      "404 0 False\n",
      "306 0 False\n",
      "346 0 False\n",
      "380 0 False\n",
      "304 0 False\n",
      "301 0 False\n",
      "323 0 False\n",
      "228 0 False\n",
      "139 0 False\n",
      "207 0 False\n",
      "212 0 False\n",
      "117 0 False\n",
      "53 0 False\n",
      "12 0 False\n",
      "0 -1 True\n"
     ]
    }
   ],
   "source": [
    "# sample trajectory\n",
    "lrw.reset()\n",
    "while True:\n",
    "    state, rew, done = lrw.step()\n",
    "    print(state, rew, done)\n",
    "    if done:\n",
    "        break;"
   ]
  },
  {
   "cell_type": "code",
   "execution_count": 249,
   "id": "2d9f56c0-e76e-46f5-9be7-a3e7ab1ae676",
   "metadata": {
    "scrolled": true,
    "tags": []
   },
   "outputs": [],
   "source": [
    "real_values = np.array([i/500.0 - 1 for i in range(0,1000)])"
   ]
  },
  {
   "cell_type": "code",
   "execution_count": 250,
   "id": "92a931c8-b847-4144-ae4d-0a39b03f47ab",
   "metadata": {},
   "outputs": [
    {
     "data": {
      "image/png": "[encoded data removed]",
      "text/plain": [
       "<Figure size 432x288 with 1 Axes>"
      ]
     },
     "metadata": {
      "needs_background": "light"
     },
     "output_type": "display_data"
    }
   ],
   "source": [
    "plt.scatter(range(0,1000), real_values, s=1)\n",
    "plt.show()"
   ]
  },
  {
   "cell_type": "code",
   "execution_count": 257,
   "id": "19e35519-518b-4777-881b-7dc1c13f926c",
   "metadata": {},
   "outputs": [],
   "source": [
    "class GradientMC():\n",
    "    def __init__(self, env, n_features, feature_vector, gamma=1, alpha=1e-4):\n",
    "        self.w = np.zeros(n_features)\n",
    "        self.env = env\n",
    "        self.feature_vector = feature_vector\n",
    "        self.gamma = gamma\n",
    "        self.alpha = alpha\n",
    "        \n",
    "    def reset(self):\n",
    "        self.w = np.zeros(n_features)\n",
    "        \n",
    "    def estimate(self, n_episodes):\n",
    "        err = np.zeros(n_episodes)\n",
    "        state = self.env.reset()\n",
    "        for e in range(n_episodes):\n",
    "            G = 0\n",
    "            episode = self.generate_episode()\n",
    "            for t in reversed(range(len(episode))):\n",
    "                state, reward = episode[t]\n",
    "                G = self.gamma * G + reward\n",
    "                v = self.w * self.feature_vector(state)\n",
    "                self.w += self.alpha * (G - v) * self.feature_vector(state)\n",
    "            err[e] = self.error()\n",
    "        return err\n",
    "    \n",
    "    def error(self):\n",
    "        approx = np.sum([self.w * self.feature_vector(i+1) for i in range(0,1000)])\n",
    "        return np.sqrt(((approx - real_values) ** 2).mean())\n",
    "            \n",
    "    def generate_episode(self):\n",
    "        episode = []\n",
    "        state = self.env.reset()\n",
    "        while True:\n",
    "            s_p, rew, done = self.env.step()\n",
    "            episode.append((state, rew))\n",
    "            if done:\n",
    "                break;\n",
    "            state = s_p\n",
    "        return episode\n",
    "        \n",
    "    def iterate(self, n_runs, n_episodes):\n",
    "        err = np.zeros(n_episodes)\n",
    "        for i in tqdm(range(n_runs)):\n",
    "            self.reset()\n",
    "            err += self.estimate(n_episodes)\n",
    "        return err/n_episodes\n",
    "            "
   ]
  },
  {
   "cell_type": "markdown",
   "id": "3e8a783b-f2ed-4a65-ab63-0bab7f20b1e8",
   "metadata": {},
   "source": [
    "## One Tiling"
   ]
  },
  {
   "cell_type": "code",
   "execution_count": 258,
   "id": "00c341ac-0ae0-4510-bf62-5a77d67ea380",
   "metadata": {},
   "outputs": [],
   "source": [
    "tile_size = 200\n",
    "n_features = n_states // tile_size\n"
   ]
  },
  {
   "cell_type": "code",
   "execution_count": 259,
   "id": "e53d717b-dba1-4b72-b90c-373ced9c1140",
   "metadata": {},
   "outputs": [],
   "source": [
    "def feature_vector_one_tile(state):\n",
    "    features = np.zeros(n_features + 2)\n",
    "    x = (state - 1) // tile_size + 1\n",
    "    features[x] = 1\n",
    "    return features[1:-1]"
   ]
  },
  {
   "cell_type": "code",
   "execution_count": 260,
   "id": "243ef55b-0c4e-4c02-bb0c-913cce1527b4",
   "metadata": {},
   "outputs": [],
   "source": [
    "## TEST\n",
    "np.testing.assert_array_equal(feature_vector_one_tile(state=0), np.zeros(n_features))\n",
    "\n",
    "np.testing.assert_array_equal(feature_vector_one_tile(state=1001), np.zeros(n_features))\n",
    "\n",
    "a = np.zeros(n_features)\n",
    "a[0] = 1\n",
    "np.testing.assert_array_equal(feature_vector_one_tile(state=1), a)\n",
    "\n",
    "a = np.zeros(n_features)\n",
    "a[0] = 1\n",
    "np.testing.assert_array_equal(feature_vector_one_tile(state=200), a)\n",
    "\n",
    "a = np.zeros(n_features)\n",
    "a[1] = 1\n",
    "np.testing.assert_array_equal(feature_vector_one_tile(state=201), a)\n"
   ]
  },
  {
   "cell_type": "code",
   "execution_count": 261,
   "id": "9a6e4809-d821-400f-a657-6fc2b89faaf6",
   "metadata": {},
   "outputs": [],
   "source": [
    "n_states = 1000\n",
    "\n",
    "lrw = LongRandomWalk(n_states + 2)\n",
    "gmc = GradientMC(lrw, n_features, feature_vector_one_tile)"
   ]
  },
  {
   "cell_type": "code",
   "execution_count": 262,
   "id": "6421b0c0-b46f-4b55-a0c8-fb0b413d4146",
   "metadata": {},
   "outputs": [
    {
     "data": {
      "text/plain": [
       "array([ 1.25985646,  2.77512646,  0.69817641, ..., 54.12073632,\n",
       "       48.75453266, 49.97822463])"
      ]
     },
     "execution_count": 262,
     "metadata": {},
     "output_type": "execute_result"
    }
   ],
   "source": [
    "gmc.estimate(5000)"
   ]
  },
  {
   "cell_type": "code",
   "execution_count": 263,
   "id": "1802e065-e434-487b-a398-cad3cb543439",
   "metadata": {},
   "outputs": [
    {
     "data": {
      "image/png": "[encoded data removed]",
      "text/plain": [
       "<Figure size 432x288 with 1 Axes>"
      ]
     },
     "metadata": {
      "needs_background": "light"
     },
     "output_type": "display_data"
    }
   ],
   "source": [
    "plt.plot(gmc.w.repeat(tile_size, axis=0), 'crimson')\n",
    "plt.scatter(range(0,1000), real_values, s=1)\n",
    "plt.show()"
   ]
  },
  {
   "cell_type": "code",
   "execution_count": 264,
   "id": "72764b76-6f31-48b9-9c3f-9c559cacf5b6",
   "metadata": {},
   "outputs": [
    {
     "name": "stderr",
     "output_type": "stream",
     "text": [
      "100%|██████████| 30/30 [08:25<00:00, 16.85s/it]\n"
     ]
    }
   ],
   "source": [
    "VE_one_tile = gmc.iterate(30, 5000)"
   ]
  },
  {
   "cell_type": "markdown",
   "id": "18538443-bf7c-44b3-932d-fac080e77c1f",
   "metadata": {},
   "source": [
    "## Tile Coding"
   ]
  },
  {
   "cell_type": "code",
   "execution_count": 265,
   "id": "92fa204d-69d4-412f-a824-e0a16a11e9dc",
   "metadata": {},
   "outputs": [],
   "source": [
    "n_features = (n_states // tile_size + 1) * 50\n",
    "n_tiles = (n_states // tile_size + 1)\n",
    "tile_shift = 4 # states"
   ]
  },
  {
   "cell_type": "code",
   "execution_count": 266,
   "id": "5ab615a7-60d0-475c-bb6f-8dfab2459eb5",
   "metadata": {},
   "outputs": [],
   "source": [
    "def feature_vector_tile_coding(state):\n",
    "    features = np.zeros(n_features)\n",
    "    if state == n_states + 1 or state == 0:\n",
    "        return features\n",
    "    \n",
    "    tile = (state - 1) // tile_size\n",
    "    sec = (state - tile * 200) // 4 + 1\n",
    "    features = np.zeros(n_features)\n",
    "    indexes = [tile + i*n_tiles for i in range(50-sec)] + \\\n",
    "        [1 + tile + (50-sec + i)*n_tiles for i in range(sec)]\n",
    "    features[indexes] = 1\n",
    "    return features"
   ]
  },
  {
   "cell_type": "code",
   "execution_count": 267,
   "id": "7d666a49-ec79-4aad-b0fe-405f35dce695",
   "metadata": {},
   "outputs": [],
   "source": [
    "## Feature Vector TEST\n",
    "np.testing.assert_array_equal(feature_vector_tile_coding(state=0), np.zeros(n_features))\n",
    "\n",
    "np.testing.assert_array_equal(feature_vector_tile_coding(state=1001), np.zeros(n_features))\n",
    "\n",
    "a = []\n",
    "b = [1,0,0,0,0,0]\n",
    "c = [0,1,0,0,0,0]\n",
    "for i in range(49):\n",
    "    a += b\n",
    "a += c\n",
    "np.testing.assert_array_equal(feature_vector_tile_coding(state=1), a)\n",
    "\n",
    "np.testing.assert_array_equal(feature_vector_tile_coding(state=3), a)\n",
    "\n",
    "\n",
    "a = []\n",
    "b = [1,0,0,0,0,0]\n",
    "c = [0,1,0,0,0,0]\n",
    "for i in range(48):\n",
    "    a += b\n",
    "a += c+c\n",
    "np.testing.assert_array_equal(feature_vector_tile_coding(state=4), a)\n",
    "\n"
   ]
  },
  {
   "cell_type": "code",
   "execution_count": 273,
   "id": "b4c30dd0-339d-4994-9613-58d9fc0cb0fe",
   "metadata": {},
   "outputs": [],
   "source": [
    "n_states = 1000\n",
    "\n",
    "lrw = LongRandomWalk(n_states + 2)\n",
    "gmc = GradientMC(lrw, n_features, feature_vector_tile_coding, alpha=2e-6)"
   ]
  },
  {
   "cell_type": "code",
   "execution_count": 274,
   "id": "2b0165f9-d262-46a5-929f-30823007e758",
   "metadata": {},
   "outputs": [
    {
     "data": {
      "text/plain": [
       "array([  0.64573114,   3.39715346,   2.58603492, ..., 275.8247287 ,\n",
       "       275.45362924, 275.13197677])"
      ]
     },
     "execution_count": 274,
     "metadata": {},
     "output_type": "execute_result"
    }
   ],
   "source": [
    "gmc.estimate(5000)"
   ]
  },
  {
   "cell_type": "code",
   "execution_count": 275,
   "id": "c6a660bd-829c-44ae-862b-a678acc97817",
   "metadata": {},
   "outputs": [
    {
     "data": {
      "image/png": "[encoded data removed]",
      "text/plain": [
       "<Figure size 432x288 with 1 Axes>"
      ]
     },
     "metadata": {
      "needs_background": "light"
     },
     "output_type": "display_data"
    }
   ],
   "source": [
    "plt.plot(gmc.w.repeat(tile_size, axis=0), 'crimson')\n",
    "plt.scatter(range(0,1000), real_values, s=1)\n",
    "plt.show()"
   ]
  },
  {
   "cell_type": "code",
   "execution_count": 272,
   "id": "361f409d-71ee-4c30-a754-cef7870c5a53",
   "metadata": {},
   "outputs": [
    {
     "name": "stderr",
     "output_type": "stream",
     "text": [
      "  3%|▎         | 1/30 [01:52<54:25, 112.61s/it]\n"
     ]
    },
    {
     "ename": "KeyboardInterrupt",
     "evalue": "",
     "output_type": "error",
     "traceback": [
      "\u001b[0;31m---------------------------------------------------------------------------\u001b[0m",
      "\u001b[0;31mKeyboardInterrupt\u001b[0m                         Traceback (most recent call last)",
      "\u001b[0;32m<ipython-input-272-36f50f16c226>\u001b[0m in \u001b[0;36m<module>\u001b[0;34m\u001b[0m\n\u001b[0;32m----> 1\u001b[0;31m \u001b[0mVE_tile_coding\u001b[0m \u001b[0;34m=\u001b[0m \u001b[0mgmc\u001b[0m\u001b[0;34m.\u001b[0m\u001b[0miterate\u001b[0m\u001b[0;34m(\u001b[0m\u001b[0;36m30\u001b[0m\u001b[0;34m,\u001b[0m \u001b[0;36m5000\u001b[0m\u001b[0;34m)\u001b[0m\u001b[0;34m\u001b[0m\u001b[0;34m\u001b[0m\u001b[0m\n\u001b[0m",
      "\u001b[0;32m<ipython-input-257-f1ba71e8441c>\u001b[0m in \u001b[0;36miterate\u001b[0;34m(self, n_runs, n_episodes)\u001b[0m\n\u001b[1;32m     43\u001b[0m         \u001b[0;32mfor\u001b[0m \u001b[0mi\u001b[0m \u001b[0;32min\u001b[0m \u001b[0mtqdm\u001b[0m\u001b[0;34m(\u001b[0m\u001b[0mrange\u001b[0m\u001b[0;34m(\u001b[0m\u001b[0mn_runs\u001b[0m\u001b[0;34m)\u001b[0m\u001b[0;34m)\u001b[0m\u001b[0;34m:\u001b[0m\u001b[0;34m\u001b[0m\u001b[0;34m\u001b[0m\u001b[0m\n\u001b[1;32m     44\u001b[0m             \u001b[0mself\u001b[0m\u001b[0;34m.\u001b[0m\u001b[0mreset\u001b[0m\u001b[0;34m(\u001b[0m\u001b[0;34m)\u001b[0m\u001b[0;34m\u001b[0m\u001b[0;34m\u001b[0m\u001b[0m\n\u001b[0;32m---> 45\u001b[0;31m             \u001b[0merr\u001b[0m \u001b[0;34m+=\u001b[0m \u001b[0mself\u001b[0m\u001b[0;34m.\u001b[0m\u001b[0mestimate\u001b[0m\u001b[0;34m(\u001b[0m\u001b[0mn_episodes\u001b[0m\u001b[0;34m)\u001b[0m\u001b[0;34m\u001b[0m\u001b[0;34m\u001b[0m\u001b[0m\n\u001b[0m\u001b[1;32m     46\u001b[0m         \u001b[0;32mreturn\u001b[0m \u001b[0merr\u001b[0m\u001b[0;34m/\u001b[0m\u001b[0mn_episodes\u001b[0m\u001b[0;34m\u001b[0m\u001b[0;34m\u001b[0m\u001b[0m\n\u001b[1;32m     47\u001b[0m \u001b[0;34m\u001b[0m\u001b[0m\n",
      "\u001b[0;32m<ipython-input-257-f1ba71e8441c>\u001b[0m in \u001b[0;36mestimate\u001b[0;34m(self, n_episodes)\u001b[0m\n\u001b[1;32m     21\u001b[0m                 \u001b[0mv\u001b[0m \u001b[0;34m=\u001b[0m \u001b[0mself\u001b[0m\u001b[0;34m.\u001b[0m\u001b[0mw\u001b[0m \u001b[0;34m*\u001b[0m \u001b[0mself\u001b[0m\u001b[0;34m.\u001b[0m\u001b[0mfeature_vector\u001b[0m\u001b[0;34m(\u001b[0m\u001b[0mstate\u001b[0m\u001b[0;34m)\u001b[0m\u001b[0;34m\u001b[0m\u001b[0;34m\u001b[0m\u001b[0m\n\u001b[1;32m     22\u001b[0m                 \u001b[0mself\u001b[0m\u001b[0;34m.\u001b[0m\u001b[0mw\u001b[0m \u001b[0;34m+=\u001b[0m \u001b[0mself\u001b[0m\u001b[0;34m.\u001b[0m\u001b[0malpha\u001b[0m \u001b[0;34m*\u001b[0m \u001b[0;34m(\u001b[0m\u001b[0mG\u001b[0m \u001b[0;34m-\u001b[0m \u001b[0mv\u001b[0m\u001b[0;34m)\u001b[0m \u001b[0;34m*\u001b[0m \u001b[0mself\u001b[0m\u001b[0;34m.\u001b[0m\u001b[0mfeature_vector\u001b[0m\u001b[0;34m(\u001b[0m\u001b[0mstate\u001b[0m\u001b[0;34m)\u001b[0m\u001b[0;34m\u001b[0m\u001b[0;34m\u001b[0m\u001b[0m\n\u001b[0;32m---> 23\u001b[0;31m             \u001b[0merr\u001b[0m\u001b[0;34m[\u001b[0m\u001b[0me\u001b[0m\u001b[0;34m]\u001b[0m \u001b[0;34m=\u001b[0m \u001b[0mself\u001b[0m\u001b[0;34m.\u001b[0m\u001b[0merror\u001b[0m\u001b[0;34m(\u001b[0m\u001b[0;34m)\u001b[0m\u001b[0;34m\u001b[0m\u001b[0;34m\u001b[0m\u001b[0m\n\u001b[0m\u001b[1;32m     24\u001b[0m         \u001b[0;32mreturn\u001b[0m \u001b[0merr\u001b[0m\u001b[0;34m\u001b[0m\u001b[0;34m\u001b[0m\u001b[0m\n\u001b[1;32m     25\u001b[0m \u001b[0;34m\u001b[0m\u001b[0m\n",
      "\u001b[0;32m<ipython-input-257-f1ba71e8441c>\u001b[0m in \u001b[0;36merror\u001b[0;34m(self)\u001b[0m\n\u001b[1;32m     25\u001b[0m \u001b[0;34m\u001b[0m\u001b[0m\n\u001b[1;32m     26\u001b[0m     \u001b[0;32mdef\u001b[0m \u001b[0merror\u001b[0m\u001b[0;34m(\u001b[0m\u001b[0mself\u001b[0m\u001b[0;34m)\u001b[0m\u001b[0;34m:\u001b[0m\u001b[0;34m\u001b[0m\u001b[0;34m\u001b[0m\u001b[0m\n\u001b[0;32m---> 27\u001b[0;31m         \u001b[0mapprox\u001b[0m \u001b[0;34m=\u001b[0m \u001b[0mnp\u001b[0m\u001b[0;34m.\u001b[0m\u001b[0msum\u001b[0m\u001b[0;34m(\u001b[0m\u001b[0;34m[\u001b[0m\u001b[0mself\u001b[0m\u001b[0;34m.\u001b[0m\u001b[0mw\u001b[0m \u001b[0;34m*\u001b[0m \u001b[0mself\u001b[0m\u001b[0;34m.\u001b[0m\u001b[0mfeature_vector\u001b[0m\u001b[0;34m(\u001b[0m\u001b[0mi\u001b[0m\u001b[0;34m+\u001b[0m\u001b[0;36m1\u001b[0m\u001b[0;34m)\u001b[0m \u001b[0;32mfor\u001b[0m \u001b[0mi\u001b[0m \u001b[0;32min\u001b[0m \u001b[0mrange\u001b[0m\u001b[0;34m(\u001b[0m\u001b[0;36m0\u001b[0m\u001b[0;34m,\u001b[0m\u001b[0;36m1000\u001b[0m\u001b[0;34m)\u001b[0m\u001b[0;34m]\u001b[0m\u001b[0;34m)\u001b[0m\u001b[0;34m\u001b[0m\u001b[0;34m\u001b[0m\u001b[0m\n\u001b[0m\u001b[1;32m     28\u001b[0m         \u001b[0;32mreturn\u001b[0m \u001b[0mnp\u001b[0m\u001b[0;34m.\u001b[0m\u001b[0msqrt\u001b[0m\u001b[0;34m(\u001b[0m\u001b[0;34m(\u001b[0m\u001b[0;34m(\u001b[0m\u001b[0mapprox\u001b[0m \u001b[0;34m-\u001b[0m \u001b[0mreal_values\u001b[0m\u001b[0;34m)\u001b[0m \u001b[0;34m**\u001b[0m \u001b[0;36m2\u001b[0m\u001b[0;34m)\u001b[0m\u001b[0;34m.\u001b[0m\u001b[0mmean\u001b[0m\u001b[0;34m(\u001b[0m\u001b[0;34m)\u001b[0m\u001b[0;34m)\u001b[0m\u001b[0;34m\u001b[0m\u001b[0;34m\u001b[0m\u001b[0m\n\u001b[1;32m     29\u001b[0m \u001b[0;34m\u001b[0m\u001b[0m\n",
      "\u001b[0;32m<ipython-input-257-f1ba71e8441c>\u001b[0m in \u001b[0;36m<listcomp>\u001b[0;34m(.0)\u001b[0m\n\u001b[1;32m     25\u001b[0m \u001b[0;34m\u001b[0m\u001b[0m\n\u001b[1;32m     26\u001b[0m     \u001b[0;32mdef\u001b[0m \u001b[0merror\u001b[0m\u001b[0;34m(\u001b[0m\u001b[0mself\u001b[0m\u001b[0;34m)\u001b[0m\u001b[0;34m:\u001b[0m\u001b[0;34m\u001b[0m\u001b[0;34m\u001b[0m\u001b[0m\n\u001b[0;32m---> 27\u001b[0;31m         \u001b[0mapprox\u001b[0m \u001b[0;34m=\u001b[0m \u001b[0mnp\u001b[0m\u001b[0;34m.\u001b[0m\u001b[0msum\u001b[0m\u001b[0;34m(\u001b[0m\u001b[0;34m[\u001b[0m\u001b[0mself\u001b[0m\u001b[0;34m.\u001b[0m\u001b[0mw\u001b[0m \u001b[0;34m*\u001b[0m \u001b[0mself\u001b[0m\u001b[0;34m.\u001b[0m\u001b[0mfeature_vector\u001b[0m\u001b[0;34m(\u001b[0m\u001b[0mi\u001b[0m\u001b[0;34m+\u001b[0m\u001b[0;36m1\u001b[0m\u001b[0;34m)\u001b[0m \u001b[0;32mfor\u001b[0m \u001b[0mi\u001b[0m \u001b[0;32min\u001b[0m \u001b[0mrange\u001b[0m\u001b[0;34m(\u001b[0m\u001b[0;36m0\u001b[0m\u001b[0;34m,\u001b[0m\u001b[0;36m1000\u001b[0m\u001b[0;34m)\u001b[0m\u001b[0;34m]\u001b[0m\u001b[0;34m)\u001b[0m\u001b[0;34m\u001b[0m\u001b[0;34m\u001b[0m\u001b[0m\n\u001b[0m\u001b[1;32m     28\u001b[0m         \u001b[0;32mreturn\u001b[0m \u001b[0mnp\u001b[0m\u001b[0;34m.\u001b[0m\u001b[0msqrt\u001b[0m\u001b[0;34m(\u001b[0m\u001b[0;34m(\u001b[0m\u001b[0;34m(\u001b[0m\u001b[0mapprox\u001b[0m \u001b[0;34m-\u001b[0m \u001b[0mreal_values\u001b[0m\u001b[0;34m)\u001b[0m \u001b[0;34m**\u001b[0m \u001b[0;36m2\u001b[0m\u001b[0;34m)\u001b[0m\u001b[0;34m.\u001b[0m\u001b[0mmean\u001b[0m\u001b[0;34m(\u001b[0m\u001b[0;34m)\u001b[0m\u001b[0;34m)\u001b[0m\u001b[0;34m\u001b[0m\u001b[0;34m\u001b[0m\u001b[0m\n\u001b[1;32m     29\u001b[0m \u001b[0;34m\u001b[0m\u001b[0m\n",
      "\u001b[0;32m<ipython-input-266-9e3b849034e0>\u001b[0m in \u001b[0;36mfeature_vector_tile_coding\u001b[0;34m(state)\u001b[0m\n\u001b[1;32m      9\u001b[0m     \u001b[0mindexes\u001b[0m \u001b[0;34m=\u001b[0m \u001b[0;34m[\u001b[0m\u001b[0mtile\u001b[0m \u001b[0;34m+\u001b[0m \u001b[0mi\u001b[0m\u001b[0;34m*\u001b[0m\u001b[0mn_tiles\u001b[0m \u001b[0;32mfor\u001b[0m \u001b[0mi\u001b[0m \u001b[0;32min\u001b[0m \u001b[0mrange\u001b[0m\u001b[0;34m(\u001b[0m\u001b[0;36m50\u001b[0m\u001b[0;34m-\u001b[0m\u001b[0msec\u001b[0m\u001b[0;34m)\u001b[0m\u001b[0;34m]\u001b[0m \u001b[0;34m+\u001b[0m\u001b[0;31m \u001b[0m\u001b[0;31m\\\u001b[0m\u001b[0;34m\u001b[0m\u001b[0;34m\u001b[0m\u001b[0m\n\u001b[1;32m     10\u001b[0m         \u001b[0;34m[\u001b[0m\u001b[0;36m1\u001b[0m \u001b[0;34m+\u001b[0m \u001b[0mtile\u001b[0m \u001b[0;34m+\u001b[0m \u001b[0;34m(\u001b[0m\u001b[0;36m50\u001b[0m\u001b[0;34m-\u001b[0m\u001b[0msec\u001b[0m \u001b[0;34m+\u001b[0m \u001b[0mi\u001b[0m\u001b[0;34m)\u001b[0m\u001b[0;34m*\u001b[0m\u001b[0mn_tiles\u001b[0m \u001b[0;32mfor\u001b[0m \u001b[0mi\u001b[0m \u001b[0;32min\u001b[0m \u001b[0mrange\u001b[0m\u001b[0;34m(\u001b[0m\u001b[0msec\u001b[0m\u001b[0;34m)\u001b[0m\u001b[0;34m]\u001b[0m\u001b[0;34m\u001b[0m\u001b[0;34m\u001b[0m\u001b[0m\n\u001b[0;32m---> 11\u001b[0;31m     \u001b[0mfeatures\u001b[0m\u001b[0;34m[\u001b[0m\u001b[0mindexes\u001b[0m\u001b[0;34m]\u001b[0m \u001b[0;34m=\u001b[0m \u001b[0;36m1\u001b[0m\u001b[0;34m\u001b[0m\u001b[0;34m\u001b[0m\u001b[0m\n\u001b[0m\u001b[1;32m     12\u001b[0m     \u001b[0;32mreturn\u001b[0m \u001b[0mfeatures\u001b[0m\u001b[0;34m\u001b[0m\u001b[0;34m\u001b[0m\u001b[0m\n",
      "\u001b[0;31mKeyboardInterrupt\u001b[0m: "
     ]
    }
   ],
   "source": [
    "VE_tile_coding = gmc.iterate(30, 5000)"
   ]
  },
  {
   "cell_type": "code",
   "execution_count": 213,
   "id": "4153ae05-a94c-4844-8435-29a0f9763ce7",
   "metadata": {},
   "outputs": [
    {
     "data": {
      "image/png": "[encoded data removed]",
      "text/plain": [
       "<Figure size 432x288 with 1 Axes>"
      ]
     },
     "metadata": {
      "needs_background": "light"
     },
     "output_type": "display_data"
    }
   ],
   "source": [
    "plt.plot(VE_one_tile, 'crimson', label='State aggregation (one tiling)')\n",
    "plt.plot(VE_tile_coding, 'deepskyblue', label='Tile coding (50 tilings)')\n",
    "plt.legend()\n",
    "plt.show()"
   ]
  }
 ],
 "metadata": {
  "kernelspec": {
   "display_name": "RL",
   "language": "python",
   "name": "rl"
  },
  "language_info": {
   "codemirror_mode": {
    "name": "ipython",
    "version": 3
   },
   "file_extension": ".py",
   "mimetype": "text/x-python",
   "name": "python",
   "nbconvert_exporter": "python",
   "pygments_lexer": "ipython3",
   "version": "3.6.13"
  }
 },
 "nbformat": 4,
 "nbformat_minor": 5
}
