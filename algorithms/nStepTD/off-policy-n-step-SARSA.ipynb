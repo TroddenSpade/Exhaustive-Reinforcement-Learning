{
 "cells": [
  {
   "cell_type": "markdown",
   "id": "f4421851-043b-4e67-930d-ce4acb83e50f",
   "metadata": {},
   "source": [
    "# Off-policy $n$-step SARSA"
   ]
  },
  {
   "cell_type": "markdown",
   "id": "8bb77ec0-6a13-4b7c-9526-d1ecb7420b7c",
   "metadata": {},
   "source": [
    "![](./src/offpolicy_n_step_sarsa.png)"
   ]
  }
 ],
 "metadata": {
  "kernelspec": {
   "display_name": "RL",
   "language": "python",
   "name": "rl"
  },
  "language_info": {
   "codemirror_mode": {
    "name": "ipython",
    "version": 3
   },
   "file_extension": ".py",
   "mimetype": "text/x-python",
   "name": "python",
   "nbconvert_exporter": "python",
   "pygments_lexer": "ipython3",
   "version": "3.6.13"
  }
 },
 "nbformat": 4,
 "nbformat_minor": 5
}
