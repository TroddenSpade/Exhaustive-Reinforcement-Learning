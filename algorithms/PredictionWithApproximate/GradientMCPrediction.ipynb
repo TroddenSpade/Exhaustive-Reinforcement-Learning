{
 "cells": [
  {
   "cell_type": "markdown",
   "metadata": {},
   "source": [
    "# Gradient Monte Carlo Prediction"
   ]
  },
  {
   "cell_type": "code",
   "execution_count": 1,
   "metadata": {},
   "outputs": [],
   "source": [
    "import numpy as np\n",
    "import jdc"
   ]
  },
  {
   "cell_type": "markdown",
   "metadata": {},
   "source": [
    "![Gradient-MC](./src/GMCPrediction.png)"
   ]
  },
  {
   "cell_type": "code",
   "execution_count": 2,
   "metadata": {},
   "outputs": [],
   "source": [
    "class GradientMC():\n",
    "    def __init__(self, env, n_features, feature_vector, gamma=1, alpha=1e-4):\n",
    "        self.w = np.zeros(n_features)\n",
    "        self.env = env\n",
    "        self.feature_vector = feature_vector\n",
    "        self.gamma = gamma\n",
    "        self.alpha = alpha\n",
    "        \n",
    "    def reset(self):\n",
    "        self.w = np.zeros(n_features)\n",
    "           "
   ]
  },
  {
   "cell_type": "code",
   "execution_count": 3,
   "metadata": {},
   "outputs": [],
   "source": [
    "%%add_to GradientMC\n",
    "def error(self):\n",
    "    approx = [np.dot(self.w, self.feature_vector(i+1)) for i in range(0,1000)]\n",
    "    return np.sqrt(((approx - real_values) ** 2).mean())\n",
    "        \n",
    "def generate_episode(self):\n",
    "    episode = []\n",
    "    state = self.env.reset()\n",
    "    while True:\n",
    "        s_p, rew, done = self.env.step()\n",
    "        episode.append((state, rew))\n",
    "        if done:\n",
    "            break;\n",
    "        state = s_p\n",
    "    return episode"
   ]
  },
  {
   "cell_type": "code",
   "execution_count": 4,
   "metadata": {},
   "outputs": [],
   "source": [
    "%%add_to GradientMC\n",
    "def estimate(self, n_episodes):\n",
    "    err = np.zeros(n_episodes)\n",
    "    state = self.env.reset()\n",
    "    for e in range(n_episodes):\n",
    "        G = 0\n",
    "        episode = self.generate_episode()\n",
    "        for t in reversed(range(len(episode))):\n",
    "            state, reward = episode[t]\n",
    "            G = self.gamma * G + reward\n",
    "            v = np.dot(self.w, self.feature_vector(state))\n",
    "            self.w += self.alpha * (G - v) * self.feature_vector(state)\n",
    "        err[e] = self.error()\n",
    "    return err\n",
    "        \n",
    "def iterate(self, n_runs, n_episodes):\n",
    "    err = np.zeros(n_episodes)\n",
    "    for i in tqdm(range(n_runs)):\n",
    "        self.reset()\n",
    "        err += self.estimate(n_episodes)\n",
    "    return err/n_runs\n",
    "            "
   ]
  }
 ],
 "metadata": {
  "kernelspec": {
   "display_name": "RL",
   "language": "python",
   "name": "rl"
  },
  "language_info": {
   "codemirror_mode": {
    "name": "ipython",
    "version": 3
   },
   "file_extension": ".py",
   "mimetype": "text/x-python",
   "name": "python",
   "nbconvert_exporter": "python",
   "pygments_lexer": "ipython3",
   "version": "3.8.10"
  }
 },
 "nbformat": 4,
 "nbformat_minor": 4
}
