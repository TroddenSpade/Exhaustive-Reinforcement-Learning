{
 "cells": [
  {
   "cell_type": "markdown",
   "id": "476154c8-15f7-4db4-94a7-4cf9db8b531c",
   "metadata": {},
   "source": [
    "# Semi-gradient TD(0) Prediction"
   ]
  },
  {
   "cell_type": "code",
   "execution_count": 1,
   "id": "ece774c5-5f6e-4ad9-8f71-c8aea2851f35",
   "metadata": {},
   "outputs": [],
   "source": [
    "import numpy as np\n",
    "import jdc"
   ]
  },
  {
   "cell_type": "markdown",
   "id": "830db5ca-51b5-4417-9232-fb8f22334d0d",
   "metadata": {},
   "source": [
    "![SGTD](./src/SGTDPrediction.png)"
   ]
  },
  {
   "cell_type": "code",
   "execution_count": 2,
   "id": "0bf532e6-4d76-498a-8c01-e60d73465e0d",
   "metadata": {},
   "outputs": [],
   "source": [
    "class GradientTD():\n",
    "    def __init__(self, env, n_features, feature_vector, gamma=1, alpha=1e-4):\n",
    "        self.w = np.zeros(n_features)\n",
    "        self.env = env\n",
    "        self.feature_vector = feature_vector\n",
    "        self.gamma = gamma\n",
    "        self.alpha = alpha\n",
    "        \n",
    "    def reset(self):\n",
    "        self.w = np.zeros(n_features)\n",
    "    \n",
    "    def error(self):\n",
    "        approx = [np.dot(self.w, self.feature_vector(i+1)) for i in range(0,1000)]\n",
    "        return np.sqrt(((approx - real_values) ** 2).mean())\n"
   ]
  },
  {
   "cell_type": "code",
   "execution_count": 3,
   "id": "8581e2a8-90d3-4d8a-aa69-21fc3d59c7ef",
   "metadata": {},
   "outputs": [],
   "source": [
    "%%add_to GradientTD\n",
    "def estimate(self, n_episodes):\n",
    "    err = np.zeros(n_episodes)\n",
    "    for e in range(n_episodes):\n",
    "        state = self.env.reset()\n",
    "        while True:\n",
    "            s_p, reward, done = self.env.step()\n",
    "            v = np.dot(self.w, self.feature_vector(state))\n",
    "            v_p = np.dot(self.w, self.feature_vector(s_p))\n",
    "            self.w += self.alpha * (reward + self.gamma * v_p - v) * self.feature_vector(state)\n",
    "            if done:\n",
    "                break\n",
    "            state = s_p\n",
    "        err[e] = self.error()\n",
    "    return err"
   ]
  },
  {
   "cell_type": "code",
   "execution_count": 4,
   "id": "a34490d3-0390-45ac-933a-9697e7b880f2",
   "metadata": {},
   "outputs": [],
   "source": [
    "%%add_to GradientTD\n",
    "def iterate(self, n_runs, n_episodes):\n",
    "    err = np.zeros(n_episodes)\n",
    "    for i in tqdm(range(n_runs)):\n",
    "        self.reset()\n",
    "        err += self.estimate(n_episodes)\n",
    "    return err/n_episodes"
   ]
  }
 ],
 "metadata": {
  "kernelspec": {
   "display_name": "RL",
   "language": "python",
   "name": "rl"
  },
  "language_info": {
   "codemirror_mode": {
    "name": "ipython",
    "version": 3
   },
   "file_extension": ".py",
   "mimetype": "text/x-python",
   "name": "python",
   "nbconvert_exporter": "python",
   "pygments_lexer": "ipython3",
   "version": "3.8.10"
  }
 },
 "nbformat": 4,
 "nbformat_minor": 5
}
