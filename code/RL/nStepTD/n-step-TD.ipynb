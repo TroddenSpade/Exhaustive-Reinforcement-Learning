{
 "cells": [
  {
   "cell_type": "markdown",
   "id": "normal-albania",
   "metadata": {},
   "source": [
    "# $n$-step TD Prediction"
   ]
  },
  {
   "cell_type": "markdown",
   "id": "unauthorized-treat",
   "metadata": {},
   "source": [
    "![image.png](./src/n_step_td.png)"
   ]
  },
  {
   "cell_type": "code",
   "execution_count": 3,
   "id": "according-stable",
   "metadata": {},
   "outputs": [],
   "source": [
    "import numpy as np \n",
    "import jdc"
   ]
  },
  {
   "cell_type": "code",
   "execution_count": 4,
   "id": "exciting-norfolk",
   "metadata": {},
   "outputs": [],
   "source": [
    "class nStepTD:\n",
    "    def __init__(self, env, n, policy, alpha=0.4, gamma=1):\n",
    "        self.env = env\n",
    "        self.alpha = alpha\n",
    "        self.gamma = gamma\n",
    "        self.policy = policy\n",
    "        self.n = n\n",
    "        self.max_len = 10_000\n",
    "        self.V = np.zeros(env.state_space)"
   ]
  },
  {
   "cell_type": "code",
   "execution_count": 6,
   "id": "cf0dfbc0-878b-47ad-a35d-6c3aadacc2f5",
   "metadata": {},
   "outputs": [],
   "source": [
    "%%add_to nStepTD\n",
    "def reset(self):\n",
    "    self.V = np.zeros(self.env.state_space)\n",
    "    \n",
    "def rms_error(self, n_runs, n_episodes):\n",
    "    avg = np.zeros(n_runs)\n",
    "    for i in range(n_runs):\n",
    "        self.reset()\n",
    "        self.estimate(n_episodes)\n",
    "        avg[i] = np.sqrt(((self.V - real_values) ** 2).mean())\n",
    "    return avg.mean()"
   ]
  },
  {
   "cell_type": "code",
   "execution_count": null,
   "id": "335ce943-353f-4e47-a2c2-513218e6bc7d",
   "metadata": {},
   "outputs": [],
   "source": [
    "%%add_to nStepTD\n",
    "def estimate(self, n_episodes=1000):\n",
    "    for i in range(n_episodes):\n",
    "        gammas = np.power(self.gamma, range(self.max_len))\n",
    "        states =[]\n",
    "        rewards = []\n",
    "\n",
    "        state = self.env.reset()\n",
    "        states.append(state)\n",
    "\n",
    "        T = np.inf\n",
    "        t = 0\n",
    "        while True:\n",
    "            if t < T:\n",
    "                action = self.policy(state)\n",
    "                s_p, reward, done = self.env.step(action)\n",
    "                rewards.append(reward)\n",
    "                if done:\n",
    "                    T = t + 1\n",
    "            tau = t - self.n + 1\n",
    "            if tau >= 0:\n",
    "                G = np.sum(gammas[:min(tau+self.n,T) - tau] * rewards[tau:min(tau+self.n,T)])\n",
    "                if tau + n < T:\n",
    "                    G += np.power(self.gamma,self.n) * self.V[s_p]\n",
    "                self.V[states[tau]] += self.alpha * (G - self.V[states[tau]])\n",
    "            if tau == T - 1:\n",
    "                break\n",
    "            t += 1\n",
    "            state = s_p\n",
    "            states.append(state)"
   ]
  }
 ],
 "metadata": {
  "kernelspec": {
   "display_name": "RL",
   "language": "python",
   "name": "rl"
  },
  "language_info": {
   "codemirror_mode": {
    "name": "ipython",
    "version": 3
   },
   "file_extension": ".py",
   "mimetype": "text/x-python",
   "name": "python",
   "nbconvert_exporter": "python",
   "pygments_lexer": "ipython3",
   "version": "3.6.13"
  }
 },
 "nbformat": 4,
 "nbformat_minor": 5
}
