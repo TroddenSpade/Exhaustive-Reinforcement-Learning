{
 "cells": [
  {
   "cell_type": "markdown",
   "id": "19e95d2b-01ce-4446-ac52-93cc7af03cfc",
   "metadata": {},
   "source": [
    "# $n$-step SARSA Control"
   ]
  },
  {
   "cell_type": "markdown",
   "id": "97b30f23-c909-49a3-a5df-239ea0f17b3e",
   "metadata": {},
   "source": [
    "![](./src/n_step_sarsa.png)"
   ]
  },
  {
   "cell_type": "code",
   "execution_count": 3,
   "id": "f812637d-476f-439c-b665-c791faf4fd94",
   "metadata": {},
   "outputs": [],
   "source": [
    "import numpy as np\n",
    "import jdc"
   ]
  },
  {
   "cell_type": "code",
   "execution_count": 4,
   "id": "b2a3dc95-f6b6-4a5f-b643-bbbaa6b2e22a",
   "metadata": {},
   "outputs": [],
   "source": [
    "class nStepSARSA:\n",
    "    def __init__(self, env, n, policy, alpha=0.4, gamma=1):\n",
    "        self.env = env\n",
    "        self.alpha = alpha\n",
    "        self.gamma = gamma\n",
    "        self.policy = policy\n",
    "        self.n = n\n",
    "        self.max_len = 10_000\n",
    "        self.Q = np.zeros(env.state_space + (env.action_space,))\n",
    "        \n",
    "    def reset(self):\n",
    "        self.Q = np.zeros(self.env.state_space + (self.env.action_space,))"
   ]
  },
  {
   "cell_type": "code",
   "execution_count": 5,
   "id": "8068f9af-2e05-4d82-b525-9cc8ada96dbe",
   "metadata": {},
   "outputs": [],
   "source": [
    "%%add_to nStepSARSA\n",
    "def estimate(self, n_episodes=1000):\n",
    "    for i in range(n_episodes):\n",
    "        gammas = np.power(self.gamma, range(self.max_len))\n",
    "        states = []\n",
    "        actions = []\n",
    "        rewards = []\n",
    "\n",
    "        state = self.env.reset()\n",
    "        states.append(state)\n",
    "        action = self.policy(state)\n",
    "        actions.appen(action)\n",
    "\n",
    "        T = np.inf\n",
    "        t = 0\n",
    "        while True:\n",
    "            if t < T:\n",
    "                s_p, reward, done = self.env.step(action)\n",
    "                a_p = self.policy(s_p)\n",
    "                rewards.append(reward)\n",
    "                if done:\n",
    "                    T = t + 1\n",
    "            tau = t - self.n + 1\n",
    "            if tau >= 0:\n",
    "                G = np.sum(gammas[:min(tau+self.n,T) - tau] * rewards[tau:min(tau+self.n,T)])\n",
    "                if tau + n < T:\n",
    "                    G += np.power(self.gamma,self.n) * self.Q[s_p, a_p]\n",
    "                self.Q[states[tau], actions[tau]] += self.alpha * (G - self.Q[states[tau], actions[tau]])\n",
    "            if tau == T - 1:\n",
    "                break\n",
    "            t += 1\n",
    "            state, action = s_p, a_p\n",
    "            states.append(state)\n",
    "            actions.append(action)"
   ]
  }
 ],
 "metadata": {
  "kernelspec": {
   "display_name": "RL",
   "language": "python",
   "name": "rl"
  },
  "language_info": {
   "codemirror_mode": {
    "name": "ipython",
    "version": 3
   },
   "file_extension": ".py",
   "mimetype": "text/x-python",
   "name": "python",
   "nbconvert_exporter": "python",
   "pygments_lexer": "ipython3",
   "version": "3.6.13"
  }
 },
 "nbformat": 4,
 "nbformat_minor": 5
}
