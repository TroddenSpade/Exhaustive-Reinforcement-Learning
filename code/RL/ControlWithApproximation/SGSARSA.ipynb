{
 "cells": [
  {
   "cell_type": "markdown",
   "id": "daec989b-4527-42b2-9289-dffe2ec68a59",
   "metadata": {},
   "source": [
    "# Semi-gradient Sarsa"
   ]
  },
  {
   "cell_type": "markdown",
   "id": "41c96f5a-c2b5-45da-9609-906274424bc3",
   "metadata": {},
   "source": [
    "![SGS](./src/sgsarsa.jpg)"
   ]
  },
  {
   "cell_type": "code",
   "execution_count": 1,
   "id": "61b2bf1d-ecdd-4f44-a708-702ba7fe26cf",
   "metadata": {},
   "outputs": [],
   "source": [
    "import numpy as np\n",
    "import jdc"
   ]
  },
  {
   "cell_type": "markdown",
   "id": "d9149c33-7c92-48e6-a38c-8a77d3ac1227",
   "metadata": {},
   "source": [
    "![SGS](./src/sgsarsa_psuedo.png)"
   ]
  },
  {
   "cell_type": "code",
   "execution_count": 2,
   "id": "ca4bd2fb-5ca8-4649-8957-fdc1433aeb0f",
   "metadata": {},
   "outputs": [],
   "source": [
    "class SemiGradientSARSA:\n",
    "    def __init__(self, gamma=1, alpha=1e-2, epsilon=0.1):\n",
    "        self.w = np.zeros((3,8,8,8))\n",
    "        self.gamma = gamma\n",
    "        self.epsilon = epsilon\n",
    "        self.alpha = alpha\n",
    "        \n",
    "    def policy(self, state):\n",
    "        if np.random.rand() < self.epsilon:\n",
    "            return np.random.randint(3)\n",
    "        actions=[0,1,2]\n",
    "        f = feature_generator(state, actions)\n",
    "        q = self.w * f\n",
    "        return np.argmax(q.reshape(3,-1).sum(axis=1))\n"
   ]
  },
  {
   "cell_type": "code",
   "execution_count": 3,
   "id": "cd660612-f6f9-402b-a548-25a798b5d75f",
   "metadata": {},
   "outputs": [],
   "source": [
    "%%add_to SemiGradientSARSA\n",
    "def estimate(self, n_episodes):\n",
    "    for i in tqdm(range(n_episodes)):\n",
    "        s = env.reset() #[pos, vel]\n",
    "        a = self.policy(s)\n",
    "        while True:\n",
    "            s_p, reward, done, _ = env.step(a)\n",
    "            a_p = self.policy(s_p)\n",
    "\n",
    "            q_p = np.sum(self.w * feature_generator(s_p, a_p))\n",
    "            q = np.sum(self.w * feature_generator(s, a))\n",
    "            self.w += self.alpha * (reward + self.gamma * q_p - q) * feature_generator(s, a)\n",
    "\n",
    "            if done:\n",
    "                break\n",
    "            s = s_p\n",
    "            a = a_p"
   ]
  },
  {
   "cell_type": "code",
   "execution_count": 4,
   "id": "244deb68-838f-42d3-98bf-ea261530bce3",
   "metadata": {},
   "outputs": [],
   "source": [
    "%%add_to SemiGradientSARSA\n",
    "def cost_to_go(self, X, Y):\n",
    "    Z = np.zeros(X.shape)\n",
    "    concatenated = np.concatenate([X.ravel()[:,np.newaxis], Y.ravel()[:,np.newaxis]], axis=1)\n",
    "    for i, k in enumerate(concatenated):\n",
    "        q = self.w * feature_generator(k, [0,1,2])\n",
    "        Z[i//X.shape[1],i%X.shape[1]] = np.max(q.reshape(3,-1).sum(axis=1))\n",
    "    Z *= -1\n",
    "    return Z"
   ]
  }
 ],
 "metadata": {
  "kernelspec": {
   "display_name": "RL",
   "language": "python",
   "name": "rl"
  },
  "language_info": {
   "codemirror_mode": {
    "name": "ipython",
    "version": 3
   },
   "file_extension": ".py",
   "mimetype": "text/x-python",
   "name": "python",
   "nbconvert_exporter": "python",
   "pygments_lexer": "ipython3",
   "version": "3.8.10"
  }
 },
 "nbformat": 4,
 "nbformat_minor": 5
}
